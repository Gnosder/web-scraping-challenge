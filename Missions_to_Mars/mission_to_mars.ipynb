{
 "metadata": {
  "language_info": {
   "codemirror_mode": {
    "name": "ipython",
    "version": 3
   },
   "file_extension": ".py",
   "mimetype": "text/x-python",
   "name": "python",
   "nbconvert_exporter": "python",
   "pygments_lexer": "ipython3",
   "version": "3.8.3-final"
  },
  "orig_nbformat": 2,
  "kernelspec": {
   "name": "python38364bitpythondataconda59958d2299a64d5398811f000ec7a188",
   "display_name": "Python 3.8.3 64-bit ('PythonData': conda)"
  }
 },
 "nbformat": 4,
 "nbformat_minor": 2,
 "cells": [
  {
   "cell_type": "code",
   "execution_count": 1,
   "metadata": {},
   "outputs": [],
   "source": [
    "# Imports\n",
    "from splinter import Browser\n",
    "from bs4 import BeautifulSoup as bs"
   ]
  },
  {
   "cell_type": "markdown",
   "metadata": {},
   "source": [
    "# Scrape"
   ]
  },
  {
   "cell_type": "code",
   "execution_count": 2,
   "metadata": {},
   "outputs": [],
   "source": [
    "# init Browser\n",
    "def init_browser():\n",
    "    #from webdriver_manager.chrome import ChromeDriverManager\n",
    "    executable_path = {\"executable_path\": \"/Users/Patri/chromebrowser/chromedriver.exe\"}\n",
    "    return Browser(\"chrome\", **executable_path, headless=False)"
   ]
  },
  {
   "cell_type": "code",
   "execution_count": 3,
   "metadata": {},
   "outputs": [],
   "source": [
    "# Scrape Mars news\n",
    "def news_get():\n",
    "    # Return latest news title and story\n",
    "    browser = init_browser()\n",
    "    news_title = \"\"\n",
    "    news_p = \"\"\n",
    "    url = \"https://mars.nasa.gov/news/\"\n",
    "\n",
    "    browser.visit(url)\n",
    "\n",
    "    html = browser.html\n",
    "    soup = bs(html, \"html.parser\")\n",
    "    \n",
    "    try:\n",
    "        news_title = soup.find(\"div\", class_=\"content_title\").text\n",
    "    except:\n",
    "        news_title = sys.exc_info()[0]\n",
    "\n",
    "    try:\n",
    "        news_p = soup.find(\"div\", class_=\"article_teaser_body\").text\n",
    "    except:\n",
    "        news_p = sys.exc_info()[0]\n",
    "\n",
    "    return news_title, news_p"
   ]
  },
  {
   "cell_type": "code",
   "execution_count": 4,
   "metadata": {
    "tags": []
   },
   "outputs": [
    {
     "output_type": "stream",
     "name": "stdout",
     "text": "Mars Now <class 'AttributeError'>\n"
    }
   ],
   "source": [
    "# Test\n",
    "a, b = news_get()\n",
    "print(a,b)"
   ]
  },
  {
   "cell_type": "code",
   "execution_count": 5,
   "metadata": {},
   "outputs": [],
   "source": [
    "# Scrape JPL images\n",
    "def feat_img():\n",
    "    # Return featured image\n",
    "    import cssutils\n",
    "\n",
    "    browser = init_browser()\n",
    "    featured_image_url = \"\"\n",
    "\n",
    "    url = \"https://www.jpl.nasa.gov/spaceimages/?search=&category=Mars\"\n",
    "\n",
    "    browser.visit(url)\n",
    "\n",
    "    html = browser.html\n",
    "    soup = bs(html, \"html.parser\")\n",
    "\n",
    "    dirty_img_url = cssutils.parseStyle(soup.find('article')['style'])['background-image']\n",
    "    clean_url = dirty_img_url.replace('url(','').replace(')','')\n",
    "    featured_image_url = \"https://www.jpl.nasa.gov\" + clean_url\n",
    "    return featured_image_url"
   ]
  },
  {
   "cell_type": "code",
   "execution_count": 11,
   "metadata": {},
   "outputs": [],
   "source": [
    "# Scrape mars facts\n",
    "def mars_facts():\n",
    "    # Return table of mars facts\n",
    "    import pandas as pd\n",
    "    import lxml\n",
    "    url = \"https://space-facts.com/mars/\"\n",
    "    mars_table = \"\"\n",
    "\n",
    "    df_list = pd.read_html(url)\n",
    "\n",
    "    mars_table = df_list[0].to_html\n",
    "\n",
    "    return mars_table"
   ]
  },
  {
   "cell_type": "code",
   "execution_count": 8,
   "metadata": {},
   "outputs": [
    {
     "output_type": "error",
     "ename": "SyntaxError",
     "evalue": "unexpected EOF while parsing (<ipython-input-8-3177cdbd9125>, line 3)",
     "traceback": [
      "\u001b[1;36m  File \u001b[1;32m\"<ipython-input-8-3177cdbd9125>\"\u001b[1;36m, line \u001b[1;32m3\u001b[0m\n\u001b[1;33m    # Return list of dicts with hemisphere title and img\u001b[0m\n\u001b[1;37m                                                         ^\u001b[0m\n\u001b[1;31mSyntaxError\u001b[0m\u001b[1;31m:\u001b[0m unexpected EOF while parsing\n"
     ]
    }
   ],
   "source": [
    "# Scrape Mars Hemispheres\n",
    "def mars_hemi():\n",
    "    # Return list of dicts with hemisphere title and img \n",
    "\n",
    "    url = \"https://astrogeology.usgs.gov/search/results?q=hemisphere+enhanced&k1=target&v1=Mars\"\n",
    "\n",
    "    # Save as list of dict: {\"title\": \"<title>\", \"img_url\":\"<img_url>\"}\n",
    "    hemi_img_urls = []\n",
    "\n",
    "\n",
    "    return hemi_img_urls"
   ]
  },
  {
   "cell_type": "code",
   "execution_count": null,
   "metadata": {},
   "outputs": [],
   "source": [
    "# test\n",
    "a = mars_hemi()\n",
    "print(type(a),a)"
   ]
  },
  {
   "cell_type": "code",
   "execution_count": null,
   "metadata": {},
   "outputs": [],
   "source": []
  }
 ]
}